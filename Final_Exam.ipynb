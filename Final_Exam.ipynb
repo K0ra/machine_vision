{
 "cells": [
  {
   "cell_type": "code",
   "execution_count": 23,
   "metadata": {
    "collapsed": true
   },
   "outputs": [],
   "source": [
    "# These are all the modules we'll be using later. Make sure you can import them\n",
    "# before proceeding further.\n",
    "from __future__ import print_function\n",
    "import matplotlib.pyplot as plt\n",
    "import numpy as np\n",
    "import os\n",
    "import sys\n",
    "from scipy import ndimage\n",
    "\n",
    "\n",
    "# Config the matplotlib backend as plotting inline in IPython\n",
    "%matplotlib inline"
   ]
  },
  {
   "cell_type": "code",
   "execution_count": 31,
   "metadata": {},
   "outputs": [],
   "source": [
    "# Resizing images\n",
    "\n",
    "from PIL import Image\n",
    "import os, sys\n",
    "\n",
    "path1 = \"./Downloads/data2/Arms/\"\n",
    "path2 = \"./Downloads/data2/Figure_normal_legs/\"\n",
    "path3 = \"./Downloads/data2/FigureWheels/\"\n",
    "path4 = \"./Downloads/data2/Head/\"\n",
    "\n",
    "dirs1 = os.listdir(path1)\n",
    "dirs2 = os.listdir(path2)\n",
    "dirs3 = os.listdir(path3)\n",
    "dirs4 = os.listdir(path4)\n",
    "\n",
    "def resize(path_from, path_to, dirs):\n",
    "    for item in dirs:\n",
    "        if os.path.isfile(path_from + item):\n",
    "            im = Image.open(path_from + item)\n",
    "            f, e = os.path.splitext(path_from + item)\n",
    "            imResize = im.resize((28,28), Image.ANTIALIAS)\n",
    "            imResize.save(path_to + item, quality=95)\n",
    "\n",
    "resize(path2, \"./Downloads/new_data2/Figure_normal_legs/\", dirs2)\n",
    "resize(path3, \"./Downloads/new_data2/FigureWheels/\", dirs3)\n",
    "resize(path4, \"./Downloads/new_data2/Head/\", dirs4)\n"
   ]
  },
  {
   "cell_type": "code",
   "execution_count": 32,
   "metadata": {},
   "outputs": [
    {
     "name": "stdout",
     "output_type": "stream",
     "text": [
      "./Downloads/new_data2/Arms/\n",
      "Full dataset tensor: (784, 28, 28)\n",
      "Mean: 0.112809\n",
      "Standard deviation: 0.143145\n",
      "./Downloads/new_data2/Figure_normal_legs\n",
      "Could not read: ./Downloads/new_data2/Figure_normal_legs/.DS_Store : cannot identify image file './Downloads/new_data2/Figure_normal_legs/.DS_Store' - it's ok, skipping.\n",
      "Full dataset tensor: (622, 28, 28)\n",
      "Mean: 0.0883994\n",
      "Standard deviation: 0.16318\n",
      "./Downloads/new_data2/FigureWheels/\n",
      "Full dataset tensor: (222, 28, 28)\n",
      "Mean: 0.075104\n",
      "Standard deviation: 0.165659\n",
      "./Downloads/new_data2/Head/\n",
      "Full dataset tensor: (473, 28, 28)\n",
      "Mean: 0.0372736\n",
      "Standard deviation: 0.201234\n"
     ]
    }
   ],
   "source": [
    "from PIL import Image\n",
    "\n",
    "image_size = 28  # Pixel width and height.\n",
    "pixel_depth = 255.0  # Number of levels per pixel.\n",
    "folders = [\n",
    "    r'./Downloads/new_data2/Arms/',\n",
    "    r'./Downloads/new_data2/Figure_normal_legs',\n",
    "    r'./Downloads/new_data2/FigureWheels/',\n",
    "    r'./Downloads/new_data2/Head/'\n",
    "]\n",
    "\n",
    "def load_element(folder, min_num_images):\n",
    "    # Load the data for a single type of element\n",
    "    image_files = os.listdir(folder)\n",
    "    \n",
    "    dataset = np.ndarray(shape=(len(image_files), image_size, image_size),\n",
    "                         dtype=np.float32)\n",
    "    print(folder)\n",
    "    num_images = 0\n",
    "    for image in image_files:\n",
    "        image_file = os.path.join(folder, image)\n",
    "        try:\n",
    "            image_data = (ndimage.imread(image_file).astype(float) - \n",
    "                        pixel_depth / 2) / pixel_depth\n",
    "            if image_data.shape != (image_size, image_size):\n",
    "                raise Exception('Unexpected image shape: %s' % str(image_data.shape))\n",
    "            dataset[num_images, :, :] = image_data\n",
    "            num_images = num_images + 1\n",
    "        except IOError as e:\n",
    "            print('Could not read:', image_file, ':', e, '- it\\'s ok, skipping.')\n",
    "    \n",
    "    dataset = dataset[0:num_images, :, :]\n",
    "    if num_images < min_num_images:\n",
    "        raise Exception('Many fewer images than expected: %d < %d' %\n",
    "                        (num_images, min_num_images))\n",
    "    \n",
    "    print('Full dataset tensor:', dataset.shape)\n",
    "    print('Mean:', np.mean(dataset))\n",
    "    print('Standard deviation:', np.std(dataset))\n",
    "    return dataset\n",
    "\n",
    "X_datasets = list()\n",
    "Y_datasets = list()\n",
    "for idx in range(len(folders)):\n",
    "    folder = folders[idx] \n",
    "    X_datasets.append(load_element(folder, 200))\n",
    "    labels = np.zeros((X_datasets[-1].shape[0],len(folders)))\n",
    "    labels[:,idx] = 1\n",
    "    Y_datasets.append(labels)"
   ]
  },
  {
   "cell_type": "code",
   "execution_count": 33,
   "metadata": {},
   "outputs": [
    {
     "name": "stdout",
     "output_type": "stream",
     "text": [
      "Total samples number: (2101, 28, 28)\n",
      "Samples for tests: (526, 4)\n",
      "Samples for trains: (1575, 4)\n"
     ]
    },
    {
     "data": {
      "text/plain": [
       "<matplotlib.image.AxesImage at 0x11778d128>"
      ]
     },
     "execution_count": 33,
     "metadata": {},
     "output_type": "execute_result"
    },
    {
     "data": {
      "image/png": "[encoded data removed]",
      "text/plain": [
       "<matplotlib.figure.Figure at 0x13c2b26d8>"
      ]
     },
     "metadata": {},
     "output_type": "display_data"
    }
   ],
   "source": [
    "from sklearn.model_selection import train_test_split\n",
    "\n",
    "X_datasets2 = np.concatenate(X_datasets)\n",
    "Y_datasets2 = np.concatenate(Y_datasets)\n",
    "print(\"Total samples number:\",X_datasets2.shape)\n",
    "X_trains,X_tests,Y_trains,Y_tests = train_test_split(X_datasets2,Y_datasets2,test_size=0.25)\n",
    "print(\"Samples for tests:\",Y_tests.shape)\n",
    "print(\"Samples for trains:\",Y_trains.shape)\n",
    "plt.imshow(X_tests[0],cmap='gray')"
   ]
  },
  {
   "cell_type": "code",
   "execution_count": 34,
   "metadata": {},
   "outputs": [
    {
     "data": {
      "text/plain": [
       "<matplotlib.text.Text at 0x12871ebe0>"
      ]
     },
     "execution_count": 34,
     "metadata": {},
     "output_type": "execute_result"
    },
    {
     "data": {
      "image/png": "[encoded data removed]",
      "text/plain": [
       "<matplotlib.figure.Figure at 0x13c36d978>"
      ]
     },
     "metadata": {},
     "output_type": "display_data"
    }
   ],
   "source": [
    "# TASK 1\n",
    "\n",
    "# Median Filter\n",
    "Filtered_images = ndimage.median_filter(X_tests[0:4], 3)\n",
    "fig = plt.figure(figsize=(15,10))\n",
    "plt.subplot(221)\n",
    "plt.imshow(Filtered_images[0],cmap='gray')\n",
    "plt.title('Filtered_1', fontsize=15)\n",
    "plt.subplot(222)\n",
    "plt.imshow(Filtered_images[1],cmap='gray')\n",
    "plt.title('Filtered_2', fontsize=15)\n",
    "plt.subplot(223)\n",
    "plt.imshow(Filtered_images[2],cmap='gray')\n",
    "plt.title('Filtered_3', fontsize=15)\n",
    "plt.subplot(224)\n",
    "plt.imshow(Filtered_images[3],cmap='gray')\n",
    "plt.title('Filtered_2', fontsize=15)"
   ]
  },
  {
   "cell_type": "code",
   "execution_count": 38,
   "metadata": {},
   "outputs": [
    {
     "name": "stderr",
     "output_type": "stream",
     "text": [
      "/Users/mbair13/anaconda/lib/python3.6/site-packages/ipykernel_launcher.py:12: RuntimeWarning: divide by zero encountered in log\n",
      "  if sys.path[0] == '':\n",
      "/Users/mbair13/anaconda/lib/python3.6/site-packages/ipykernel_launcher.py:17: RuntimeWarning: invalid value encountered in subtract\n",
      "/Users/mbair13/anaconda/lib/python3.6/site-packages/ipykernel_launcher.py:17: RuntimeWarning: invalid value encountered in true_divide\n"
     ]
    },
    {
     "name": "stdout",
     "output_type": "stream",
     "text": [
      "-inf\n",
      "0.418832\n"
     ]
    },
    {
     "data": {
      "text/plain": [
       "<matplotlib.text.Text at 0x11a30c748>"
      ]
     },
     "execution_count": 38,
     "metadata": {},
     "output_type": "execute_result"
    },
    {
     "name": "stderr",
     "output_type": "stream",
     "text": [
      "/Users/mbair13/anaconda/lib/python3.6/site-packages/matplotlib/colors.py:823: UserWarning: Warning: converting a masked element to nan.\n",
      "  dtype = np.min_scalar_type(value)\n",
      "/Users/mbair13/anaconda/lib/python3.6/site-packages/numpy/ma/core.py:2766: UserWarning: Warning: converting a masked element to nan.\n",
      "  order=order, subok=True, ndmin=ndmin)\n"
     ]
    },
    {
     "data": {
      "image/png": "[encoded data removed]",
      "text/plain": [
       "<matplotlib.figure.Figure at 0x1328dcd68>"
      ]
     },
     "metadata": {},
     "output_type": "display_data"
    }
   ],
   "source": [
    "# TASK 2 (one example is provided)\n",
    "\n",
    "#OUTPUT of color correction is not appropriate because miN value is equal to -infinity\n",
    "\n",
    "# Implementation of the linear stretching of brightness\n",
    "miN = np.amin(X_tests[0])\n",
    "maX = np.amax(X_tests[0])\n",
    "lin_out = (X_tests[0]-miN)*255/(maX-miN)\n",
    "\n",
    "#Gauss Filter\n",
    "G = ndimage.gaussian_filter(lin_out, sigma=5)\n",
    "r = np.log(lin_out)-np.log(G)\n",
    "miN = np.amin(r)\n",
    "maX = np.amax(r)\n",
    "#print(miN)\n",
    "#print(maX)\n",
    "r = (r-miN)/(maX-miN) #color correction formula\n",
    "\n",
    "fig = plt.figure(figsize=(10,10))\n",
    "plt.subplot(131)\n",
    "plt.hist(lin_out.flatten(),256,[0,256])\n",
    "plt.title('Histogram of linear stretched image', fontsize=15)\n",
    "plt.subplot(132)\n",
    "plt.imshow(lin_out, cmap='gray')\n",
    "plt.title('Linear Stretching', fontsize=15)\n",
    "plt.subplot(133)\n",
    "plt.imshow(r, cmap='gray')\n",
    "plt.title('Color correction', fontsize=15)\n"
   ]
  },
  {
   "cell_type": "code",
   "execution_count": 36,
   "metadata": {},
   "outputs": [
    {
     "name": "stdout",
     "output_type": "stream",
     "text": [
      "(28, 28)\n",
      "4\n",
      "_________________________________________________________________\n",
      "Layer (type)                 Output Shape              Param #   \n",
      "=================================================================\n",
      "reshape_2 (Reshape)          (None, 784)               0         \n",
      "_________________________________________________________________\n",
      "dense_3 (Dense)              (None, 784)               615440    \n",
      "_________________________________________________________________\n",
      "dense_4 (Dense)              (None, 392)               307720    \n",
      "_________________________________________________________________\n",
      "output (Dense)               (None, 4)                 1572      \n",
      "_________________________________________________________________\n",
      "softmax (Activation)         (None, 4)                 0         \n",
      "=================================================================\n",
      "Total params: 924,732\n",
      "Trainable params: 924,732\n",
      "Non-trainable params: 0\n",
      "_________________________________________________________________\n"
     ]
    },
    {
     "name": "stderr",
     "output_type": "stream",
     "text": [
      "/Users/mbair13/anaconda/lib/python3.6/site-packages/ipykernel_launcher.py:22: UserWarning: Update your `Dense` call to the Keras 2 API: `Dense(784, input_shape=(784,), activation=\"relu\", kernel_initializer=\"uniform\")`\n",
      "/Users/mbair13/anaconda/lib/python3.6/site-packages/ipykernel_launcher.py:23: UserWarning: Update your `Dense` call to the Keras 2 API: `Dense(392, activation=\"relu\", kernel_initializer=\"uniform\")`\n",
      "/Users/mbair13/anaconda/lib/python3.6/site-packages/ipykernel_launcher.py:24: UserWarning: Update your `Dense` call to the Keras 2 API: `Dense(4, name=\"output\", kernel_initializer=\"uniform\")`\n"
     ]
    },
    {
     "name": "stdout",
     "output_type": "stream",
     "text": [
      "Train on 1181 samples, validate on 394 samples\n",
      "Epoch 1/2\n",
      "Epoch 00001: val_loss improved from inf to 0.26810, saving model to ./weights.net\n",
      " - 2s - loss: 0.3281 - acc: 0.8664 - val_loss: 0.2681 - val_acc: 0.8978\n",
      "Epoch 2/2\n",
      "Epoch 00002: val_loss did not improve\n",
      " - 2s - loss: 0.2124 - acc: 0.9143 - val_loss: 0.2811 - val_acc: 0.8782\n",
      "Epoch 00002: early stopping\n",
      "526/526 [==============================] - 0s 145us/step\n",
      "[0.25323623815416835, 0.88830798479087447]\n"
     ]
    }
   ],
   "source": [
    "# TASK 3\n",
    "\n",
    "from keras.models import Sequential\n",
    "from keras.layers import Dense,Activation,Reshape\n",
    "from keras.callbacks import EarlyStopping,ModelCheckpoint\n",
    "\n",
    "callbacks = [\n",
    "    EarlyStopping(monitor='val_loss', min_delta=0.00001, verbose=1),\n",
    "    # EarlyStopping(monitor='val_loss', patience=2, verbose=0),\n",
    "    ModelCheckpoint(filepath='./weights.net', verbose=1, save_best_only=True),\n",
    "    \n",
    "]\n",
    "\n",
    "# fix random seed for reproducibility\n",
    "seed = 7\n",
    "np.random.seed(seed)\n",
    "\n",
    "input_dim = X_trains[0].shape[0]*X_trains[0].shape[1]\n",
    "print((X_trains[0].shape[0],X_trains[0].shape[1]))\n",
    "print(Y_trains[0].shape[0])\n",
    "# create model\n",
    "model = Sequential()\n",
    "model.add(Reshape((input_dim,), input_shape=(X_trains[0].shape[0],X_trains[0].shape[1])))\n",
    "model.add(Dense(input_dim, input_shape = (input_dim,), init='uniform', activation='relu'))\n",
    "model.add(Dense(int(input_dim/2), init='uniform', activation='relu'))\n",
    "model.add(Dense(Y_trains[0].shape[0],init='uniform', name=\"output\"))\n",
    "model.add(Activation('softmax', name=\"softmax\"))\n",
    "model.summary()\n",
    "\n",
    "# Compile model\n",
    "model.compile(loss='binary_crossentropy', optimizer='RMSprop', metrics=['accuracy'])\n",
    "# Fit the model\n",
    "model.fit(X_trains, \n",
    "          Y_trains, \n",
    "          epochs=2, \n",
    "          batch_size=10, \n",
    "          verbose=2, \n",
    "          validation_split=0.25,\n",
    "          callbacks=callbacks)\n",
    "# calculate predictions\n",
    "results = model.evaluate(X_tests, Y_tests, batch_size=32, verbose=1, sample_weight=None)\n",
    "# round predictions\n",
    "print(results)"
   ]
  },
  {
   "cell_type": "code",
   "execution_count": null,
   "metadata": {
    "collapsed": true
   },
   "outputs": [],
   "source": []
  }
 ],
 "metadata": {
  "kernelspec": {
   "display_name": "Python 3",
   "language": "python",
   "name": "python3"
  },
  "language_info": {
   "codemirror_mode": {
    "name": "ipython",
    "version": 3
   },
   "file_extension": ".py",
   "mimetype": "text/x-python",
   "name": "python",
   "nbconvert_exporter": "python",
   "pygments_lexer": "ipython3",
   "version": "3.6.1"
  }
 },
 "nbformat": 4,
 "nbformat_minor": 2
}
